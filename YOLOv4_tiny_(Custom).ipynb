{
  "nbformat": 4,
  "nbformat_minor": 0,
  "metadata": {
    "accelerator": "GPU",
    "colab": {
      "name": "YOLOv4_tiny (Custom).ipynb",
      "provenance": [],
      "collapsed_sections": [],
      "include_colab_link": true
    },
    "kernelspec": {
      "display_name": "Python 3",
      "name": "python3"
    }
  },
  "cells": [
    {
      "cell_type": "markdown",
      "metadata": {
        "id": "view-in-github",
        "colab_type": "text"
      },
      "source": [
        "<a href=\"https://colab.research.google.com/github/jameswu811102/Train_Your_Custom_Yolo_v4/blob/main/YOLOv4_tiny_(Custom).ipynb\" target=\"_parent\"><img src=\"https://colab.research.google.com/assets/colab-badge.svg\" alt=\"Open In Colab\"/></a>"
      ]
    },
    {
      "cell_type": "markdown",
      "metadata": {
        "id": "W9ia4Gqul-Pa"
      },
      "source": [
        "# 掛載 google colab"
      ]
    },
    {
      "cell_type": "code",
      "metadata": {
        "id": "XYWMaKhp-6TE"
      },
      "source": [
        "from google.colab import drive\n",
        "drive.mount(\"/content/GDrive\")"
      ],
      "execution_count": null,
      "outputs": []
    },
    {
      "cell_type": "markdown",
      "metadata": {
        "id": "VcmhQxRHmCRE"
      },
      "source": [
        "# 複製 darknet repository\n"
      ]
    },
    {
      "cell_type": "code",
      "metadata": {
        "id": "68eMertgIxaB"
      },
      "source": [
        "!git clone https://github.com/AlexeyAB/darknet"
      ],
      "execution_count": null,
      "outputs": []
    },
    {
      "cell_type": "markdown",
      "metadata": {
        "id": "M7URL0hXmHtf"
      },
      "source": [
        "# 開啟 GPU 及 OpenCV的使用"
      ]
    },
    {
      "cell_type": "code",
      "metadata": {
        "id": "xym8_m8CIyXK"
      },
      "source": [
        "%cd /content/darknet\n",
        "\n",
        "!sed -i 's/GPU=0/GPU=1/' Makefile\n",
        "!sed -i 's/CUDNN=0/CUDNN=1/' Makefile\n",
        "!sed -i 's/CUDNN_HALF=0/CUDNN_HALF=1/' Makefile\n",
        "!sed -i 's/OPENCV=0/OPENCV=1/' Makefile\n",
        "\n",
        "# 如果是即時偵測須加上\n",
        "!sed -i 's/LIBSO=0/LIBSO=1/' Makefile"
      ],
      "execution_count": null,
      "outputs": []
    },
    {
      "cell_type": "markdown",
      "metadata": {
        "id": "wwj_7BDumM0W"
      },
      "source": [
        "# 編譯"
      ]
    },
    {
      "cell_type": "code",
      "metadata": {
        "id": "q2Jjv0yRKLPe"
      },
      "source": [
        "# 編譯\n",
        "!make"
      ],
      "execution_count": null,
      "outputs": []
    },
    {
      "cell_type": "markdown",
      "metadata": {
        "id": "w90DFcoamOqj"
      },
      "source": [
        "# 客製化一些功能"
      ]
    },
    {
      "cell_type": "code",
      "metadata": {
        "id": "G9Fv0wjCMPYY"
      },
      "source": [
        "# 將預測照片在colab中印出\n",
        "def imShow(path):\n",
        "  import cv2\n",
        "  import matplotlib.pyplot as plt\n",
        "  %matplotlib inline\n",
        "\n",
        "  image = cv2.imread(path)\n",
        "  height, width = image.shape[:2]\n",
        "  resized_image = cv2.resize(image,(3*width, 3*height), interpolation = cv2.INTER_CUBIC)\n",
        "\n",
        "  fig = plt.gcf()\n",
        "  fig.set_size_inches(20, 15)\n",
        "  plt.axis(\"off\")\n",
        "  plt.imshow(cv2.cvtColor(resized_image, cv2.COLOR_BGR2RGB))\n",
        "  plt.show()\n",
        "\n",
        "# 上傳檔案用的功能\n",
        "def upload():\n",
        "  from google.colab import files\n",
        "  uploaded = files.upload() \n",
        "  for name, data in uploaded.items():\n",
        "    with open(name, 'wb') as f:\n",
        "      f.write(data)\n",
        "      print ('saved file', name)\n",
        "\n",
        "# 下載檔案用  \n",
        "def download(path):\n",
        "  from google.colab import files\n",
        "  files.download(path)"
      ],
      "execution_count": null,
      "outputs": []
    },
    {
      "cell_type": "markdown",
      "metadata": {
        "id": "ynpkYPbrkusx"
      },
      "source": [
        "---------------------------------------------------------------------------\n",
        "---------------------------------------------------------------------------\n",
        "---------------------------------------------------------------------------"
      ]
    },
    {
      "cell_type": "markdown",
      "metadata": {
        "id": "hD4oZa8Rk2fn"
      },
      "source": [
        "---------------------------------------------------------------------------\n",
        "---------------------------------------------------------------------------\n",
        "---------------------------------------------------------------------------"
      ]
    },
    {
      "cell_type": "markdown",
      "metadata": {
        "id": "QZhQcAuqk3yd"
      },
      "source": [
        "---------------------------------------------------------------------------\n",
        "---------------------------------------------------------------------------\n",
        "---------------------------------------------------------------------------"
      ]
    },
    {
      "cell_type": "markdown",
      "metadata": {
        "id": "PAimK05EJaWD"
      },
      "source": [
        "# 如何訓練自己的Yolo tiny物件辨識器\n",
        "\n",
        "\n",
        "\n",
        "\n"
      ]
    },
    {
      "cell_type": "markdown",
      "metadata": {
        "id": "TZ8xBQ9tJk9n"
      },
      "source": [
        "## 0. 下載以事先訓練好的權重係數檔案 `yolov4-tiny.conv.29`"
      ]
    },
    {
      "cell_type": "code",
      "metadata": {
        "id": "i0BCP9UV2rCz"
      },
      "source": [
        "!mkdir -p /content/darknet/custom_yolo\n",
        "!mkdir -p /content/darknet/custom_yolo/backup\n",
        "!mkdir -p /content/darknet/custom_yolo/cfg\n",
        "!mkdir -p /content/darknet/custom_yolo/data\n",
        "!mkdir -p /content/darknet/custom_yolo/datasets"
      ],
      "execution_count": null,
      "outputs": []
    },
    {
      "cell_type": "code",
      "metadata": {
        "id": "dbgTlcgUJZLM"
      },
      "source": [
        "# 下載事先訓練好的卷積網絡權重檔案\n",
        "!wget -P /content/darknet/custom_yolo https://github.com/AlexeyAB/darknet/releases/download/darknet_yolo_v4_pre/yolov4-tiny.conv.29"
      ],
      "execution_count": null,
      "outputs": []
    },
    {
      "cell_type": "markdown",
      "metadata": {
        "id": "DCx1dr1DZZRG"
      },
      "source": [
        "# 1. 將你的準備使用的圖片集`(一張一張的*.jpg檔案，不是資料夾)`，放到`/content/darknet/custom_yolo/datasets`"
      ]
    },
    {
      "cell_type": "code",
      "metadata": {
        "id": "lZuKHM1mh33D"
      },
      "source": [
        "!tar -xf /content/GDrive/MyDrive/Yolo_Data/car_imgs_aug.tar -C /content/darknet/custom_yolo/datasets\n",
        "!tar -xf /content/GDrive/MyDrive/Yolo_Data/car_annots_aug.tar -C /content/darknet/custom_yolo/datasets"
      ],
      "execution_count": null,
      "outputs": []
    },
    {
      "cell_type": "markdown",
      "metadata": {
        "id": "vBd56Ekyxvrm"
      },
      "source": [
        "# 2. 準備圖片的標註檔\n",
        "將圖片做標註，每張圖片產生一個Yolo格式的標註檔案`*.txt`，製作一個`產生含有訓練資料圖片路徑的*.txt檔案`\n",
        "\n",
        "'\n",
        "### ★★ 若有需要切割成訓練資料跟測試資料，則變成製作`含有訓練資料圖片路徑的*.txt檔案`及`含有測試資料圖片路徑的*.txt檔案`\n",
        "\n",
        "```\n",
        "# 標註txt檔，長得像這樣 <object-class> <x_center> <y_center> <width> <height>\n",
        "\n",
        "1 0.716797 0.395833 0.216406 0.147222\n",
        "```\n",
        "\n",
        "```\n",
        "#　訓練資料圖片路徑的txt檔案(若有需要測試資料，同樣也需一份txt檔案)， 長成：\n",
        "\n",
        "<你自己存放訓練圖片資料夾路徑>/img1.jpg\n",
        "<你自己存放訓練圖片資料夾路徑>/img2.jpg\n",
        "<你自己存放訓練圖片資料夾路徑>/img3.jpg\n",
        "```\n",
        "\n",
        "\n",
        "\n"
      ]
    },
    {
      "cell_type": "code",
      "metadata": {
        "id": "AiwgREhAqU6F"
      },
      "source": [
        "\"\"\"\n",
        "當標註格式是Pascal VOC格式的時候，要轉換成Yolo格式\n",
        "\"\"\"\n",
        "\n",
        "import xml.etree.ElementTree as ET\n",
        "import os\n",
        "from glob import glob\n",
        "\n",
        "DataSets_save_dir_path = \"/content/darknet/custom_yolo/datasets\"\n",
        "XML_PATH = DataSets_save_dir_path\n",
        "convert2txtPATH = DataSets_save_dir_path\n",
        "\n",
        "CLS = {\"car\": 0, \"license\": 1}\n",
        "\n",
        "\n",
        "#################################################\n",
        "\n",
        "i = 0\n",
        "for xml in os.listdir(XML_PATH):\n",
        "  if \"xml\" in xml.split(\".\"):\n",
        "    print(f\"第{i}份\")\n",
        "    tree = ET.parse(XML_PATH + \"/\" + xml)\n",
        "    root = tree.getroot()\n",
        "    \n",
        "    # 找到圖片的高、寬，以利後續計算 BBOX \n",
        "    width = int(root.find(\"size\").find(\"width\").text)\n",
        "    height = int(root.find(\"size\").find(\"height\").text)\n",
        "\n",
        "    # 對所有的根點做迭代\n",
        "    with open(convert2txtPATH + \"/\" + xml.split(\".\")[0] + \".txt\", mode=\"w\", encoding=\"utf-8\") as f:\n",
        "      for obj in root.iter('object'):\n",
        "        # 找到原本 xml 標註格式裡面的內容\n",
        "        CLASS = obj.find(\"name\").text\n",
        "        CLASS_IDX = CLS[CLASS]\n",
        "        BBOX = obj.find(\"bndbox\")\n",
        "        COORDINATE = (int(BBOX.find(\"xmin\").text), int(BBOX.find(\"ymin\").text), int(BBOX.find(\"xmax\").text), int(BBOX.find(\"ymax\").text))\n",
        "\n",
        "        # 將座標轉換成 Yolo 的 x_center, y_center, w, h\n",
        "        x_center = round((COORDINATE[2] + COORDINATE[0]) / (2 * width), 6)\n",
        "        y_center = round((COORDINATE[3] + COORDINATE[1]) / (2 * height), 6)\n",
        "        w = round((COORDINATE[2] - COORDINATE[0]) / width, 6)\n",
        "        h = round((COORDINATE[3] - COORDINATE[1]) / height, 6)\n",
        "\n",
        "\n",
        "        # 寫入最終結果\n",
        "        f.write(str(CLASS_IDX) + \" \" + str(x_center) + \" \" + str(y_center) + \" \" + str(w) + \" \" + str(h) + \"\\n\")\n",
        "      \n",
        "    i += 1"
      ],
      "execution_count": null,
      "outputs": []
    },
    {
      "cell_type": "code",
      "metadata": {
        "id": "ru7JW8Xextp8"
      },
      "source": [
        "\"\"\"\n",
        "圖片確認有上傳後，「需要」切割出測試資料時，請執行此Cell\n",
        "\"\"\"\n",
        "\n",
        "# 讀取資料夾下面的檔案內容\n",
        "import os\n",
        "import random\n",
        "\n",
        "#　查看存放圖片的資料夾中有什麼內容\n",
        "DataSets_save_dir_path = \"/content/darknet/custom_yolo/datasets\"\n",
        "dir_contents = os.listdir(DataSets_save_dir_path)\n",
        "\n",
        "# 製作出每張圖片路徑的List\n",
        "imgs = [content for content in dir_contents if \"jpg\" in content.split(\".\")]\n",
        "\n",
        "# 接著打亂選單，以隨機切割資料 (shuffle功能是return None的功能)\n",
        "random.shuffle(imgs)\n",
        "\n",
        "# 看一下有多少資料數\n",
        "data_counts = len(imgs)\n",
        "\n",
        "\n",
        "# 製作train.txt (90%的訓練資料)\n",
        "with open(DataSets_save_dir_path + \"/\" + \"train.txt\", mode=\"w\", encoding=\"utf-8\") as f:\n",
        "  for img in imgs[ : int(data_counts*0.9) ]:\n",
        "    if img != imgs[ : int(data_counts*0.9) ][-1]:\n",
        "      f.write(DataSets_save_dir_path + \"/\" + img + \"\\n\")\n",
        "    else:\n",
        "      f.write(DataSets_save_dir_path + \"/\" + img)\n",
        "\n",
        "print(\"train.txt建立完畢\")\n",
        "\n",
        "\n",
        "# 製作test.txt (剩下的)\n",
        "with open(DataSets_save_dir_path + \"/\" + \"test.txt\", mode=\"w\", encoding=\"utf-8\") as f:\n",
        "  for img in imgs[ int(data_counts*0.9) : ]:\n",
        "    if img != imgs[ int(data_counts*0.9) : ][-1]:\n",
        "      f.write(DataSets_save_dir_path + \"/\" + img + \"\\n\")\n",
        "    else:\n",
        "      f.write(DataSets_save_dir_path + \"/\" + img)\n",
        "\n",
        "print(\"test.txt建立完畢\")"
      ],
      "execution_count": null,
      "outputs": []
    },
    {
      "cell_type": "markdown",
      "metadata": {
        "id": "FnTdWfAoZXOQ"
      },
      "source": [
        "# 3. 創建自己的`obj.names`檔案，內容為`一行一輸出類別`，最後將檔案放到`/content/darknet/custom_yolo/data`"
      ]
    },
    {
      "cell_type": "code",
      "metadata": {
        "id": "8nbMhv0WZX6m"
      },
      "source": [
        "# 將你自己物件辨識的標註類別填入到下面 labels 中，然後執行即可\n",
        "# Classes = [\n",
        "#           CLASS A,\n",
        "#           CLASS B,\n",
        "#           CLASS C,\n",
        "#           CLASS E,\n",
        "#           CLASS F\n",
        "# ]\n",
        "\n",
        "\n",
        "Classes = [\n",
        "          \"Car\",\n",
        "          \"License\"\n",
        "]\n",
        "\n",
        "ObjName_save_dir_path = \"/content/darknet/custom_yolo/data\"\n",
        "\n",
        "with open(ObjName_save_dir_path + \"/\" + \"obj.names\", mode=\"w\", encoding=\"utf-8\") as f:\n",
        "  for Class in Classes:\n",
        "    if Class != Classes[-1]:\n",
        "      f.write(Class + \"\\n\")\n",
        "    else:\n",
        "      f.write(Class)\n",
        "\n",
        "print(\"檔案創建完成\")"
      ],
      "execution_count": null,
      "outputs": []
    },
    {
      "cell_type": "markdown",
      "metadata": {
        "id": "njmQsVPUZYdT"
      },
      "source": [
        "# 4. 建立自己的`obj.data`檔案，檔案內容如下所示，`其中只要修改classes就好`，最後將此檔案放到`/content/darknet/custom_yolo/data`\n",
        "\n",
        "**********************************************************************\n",
        "***** 須注意裡面 train、valid 的路徑要跟`你自己資料集的路徑`一致 *****\n",
        "**********************************************************************\n",
        "\n",
        "```\n",
        "# 檔案內容 (只要修改classes)\n",
        "\n",
        "classes = 填入你自己的輸出類別數\n",
        "train  = <存放圖片的資料夾路徑> /train.txt\n",
        "valid  = <存放圖片的資料夾路徑> /test.txt\n",
        "names = 填入你自己的obj.names檔案路徑\n",
        "backup = 填入你模型訓練之後，係數權重檔案weight的存放路徑\n",
        "\n",
        "```"
      ]
    },
    {
      "cell_type": "code",
      "metadata": {
        "id": "thYWmZrAZY-E"
      },
      "source": [
        "classes_num = int(input(\"你的輸出類別數為？\\n\"))\n",
        "\n",
        "DataSets_save_dir_path = \"/content/darknet/custom_yolo/datasets\"\n",
        "\n",
        "contents = [\n",
        "          \"classes = {}\".format(classes_num),\n",
        "          \"train = {}/train.txt\".format(DataSets_save_dir_path),\n",
        "          \"valid = {}/test.txt\".format(DataSets_save_dir_path),  \n",
        "          \"names = {}/obj.names\".format(ObjName_save_dir_path),\n",
        "          \"backup = /content/GDrive/MyDrive/Yolo_v4_Tiny\"\n",
        "]\n",
        "\n",
        "ObjData_save_dir_path = ObjName_save_dir_path\n",
        "\n",
        "with open(ObjData_save_dir_path + \"/\" + \"obj.data\", mode=\"w\", encoding=\"utf-8\") as f:\n",
        "  for content in contents:\n",
        "    if content != contents[-1]:\n",
        "      f.write(content + \"\\n\")\n",
        "    else:\n",
        "      f.write(content)\n",
        "\n",
        "print(\"檔案建立完畢\")"
      ],
      "execution_count": null,
      "outputs": []
    },
    {
      "cell_type": "markdown",
      "metadata": {
        "id": "xlh5qv9QZWXM"
      },
      "source": [
        "# 5. 創建自己的`yolov4-tiny-obj.cfg`檔案\n",
        "* 可直接複製原本就包含在`/content/darknet/cfg`中的`yolov4-tiny-coutom.cfg`檔案，然後修改裡面的參數內容後，重新改名為`yolov4-tiny-obj.cfg`，將其存放到 `/content/darknet/custom_yolo/cfg`"
      ]
    },
    {
      "cell_type": "markdown",
      "metadata": {
        "id": "5ElCI4_4eFJ9"
      },
      "source": [
        "### 接著修改下載的cfg檔案裡面的參數\n",
        "\n",
        "\n",
        "  有任何問題詳參https://github.com/AlexeyAB/darknet#how-to-train-tiny-yolo-to-detect-your-custom-objects\n",
        "\n",
        "### 注意需修改預設 anchors 值 (於219、268行)\n",
        "  "
      ]
    },
    {
      "cell_type": "code",
      "metadata": {
        "id": "ONzQjQttV6QR"
      },
      "source": [
        "# 使用以下指令來獲得你自己的 anchor 值  (注意看原本的 cfg 文件中有幾組 anchor  =>  你的 num_of_clusters 設定就要依據幾組來做設定)\n",
        "!./darknet detector calc_anchors /content/darknet/custom_yolo/data/obj.data -num_of_clusters 6 -width 416 -height 416"
      ],
      "execution_count": null,
      "outputs": []
    },
    {
      "cell_type": "code",
      "metadata": {
        "id": "jJ6zQtCwM3Wp"
      },
      "source": [
        "# 記得 yolov4-tiny-custom.cfg 在設定完後，要改名為 yolov4-tiny-obj.cfg ，然後上傳回要的路徑 /content/darknet_custom_yolo/cfg"
      ],
      "execution_count": null,
      "outputs": []
    },
    {
      "cell_type": "markdown",
      "metadata": {
        "id": "l7JlX57lxi-S"
      },
      "source": [
        "# 6. 使用以下指令開始訓練模型\n",
        "```\n",
        "./darknet detector train <你的obj.data> <你的yolov4-obj.cfg> <預先訓練好的卷積yolov4.conv.29>\n",
        "```"
      ]
    },
    {
      "cell_type": "code",
      "metadata": {
        "id": "xFWzzyrIxjEJ"
      },
      "source": [
        "# 開始訓練前請確認你有開啟 GPU、OpenCV 的使用，然後要進行編譯，這些步驟都有做才能訓練模型\n",
        "# (建議使用) 另外若希望看到模型訓練的Loss圖，請在最後加上 -map ，圖片會存放在 /content/darknet/<chart_設定檔檔名.png>，可以了解你模型訓練的情形為何\n",
        "\n",
        "!./darknet detector train /content/darknet/custom_yolo/data/obj.data /content/darknet/custom_yolo/cfg/yolov4-tiny-obj.cfg /content/darknet/custom_yolo/yolov4-tiny.conv.29 -dont_show -map\n"
      ],
      "execution_count": null,
      "outputs": []
    },
    {
      "cell_type": "code",
      "metadata": {
        "id": "gitgIrJatupU"
      },
      "source": [
        "# 若有中斷，則將權重檔案改成最後一次的，就可以接續上次繼續訓練\n",
        "!./darknet detector train /content/darknet/build/darknet/x64/data/obj.data /content/darknet/build/darknet/x64/cfg/yolov4-obj.cfg <最後一次權重檔路徑> -dont_show -map"
      ],
      "execution_count": null,
      "outputs": []
    },
    {
      "cell_type": "code",
      "metadata": {
        "id": "7mXBGp6EtBcT"
      },
      "source": [
        "# 運行以下指令，可以知道你的模型的mAP為何 (預測精準度)， 請注意Overfitting的問題 (必須包含當初你的圖片資料及標註資料)\n",
        "!./darknet detector map /content/darknet/custom_yolo/data/obj.data /content/darknet/custom_yolo/cfg/yolov4-tiny-obj.cfg /content/yolov4-tiny-obj_best.weights"
      ],
      "execution_count": null,
      "outputs": []
    },
    {
      "cell_type": "code",
      "metadata": {
        "id": "RnIEW1xVzuur"
      },
      "source": [
        "# 用你自己訓練好的模型來做預測\n",
        "\n",
        "!./darknet detector test /content/darknet/custom_yolo/data/obj.data /content/darknet/custom_yolo/cfg/yolov4-tiny-obj.cfg /content/yolov4-tiny-obj_best.weights /content/20210708_6.jpg -dont_show -ext_output -thresh 0.5\n",
        "imShow(\"predictions.jpg\")"
      ],
      "execution_count": null,
      "outputs": []
    }
  ]
}